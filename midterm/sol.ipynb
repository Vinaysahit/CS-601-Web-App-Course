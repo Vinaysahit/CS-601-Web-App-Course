{
 "cells": [
  {
   "cell_type": "code",
   "execution_count": 21,
   "metadata": {},
   "outputs": [],
   "source": [
    "tree_nodes = 4\n",
    "tree_from = [1,3,3]\n",
    "tree_to = [3,4,2]\n",
    "a = [1,1,4,3] "
   ]
  },
  {
   "cell_type": "code",
   "execution_count": null,
   "metadata": {},
   "outputs": [],
   "source": []
  },
  {
   "cell_type": "code",
   "execution_count": 22,
   "metadata": {},
   "outputs": [
    {
     "data": {
      "text/plain": [
       "{1: 3, 3: 2}"
      ]
     },
     "execution_count": 22,
     "metadata": {},
     "output_type": "execute_result"
    }
   ],
   "source": [
    "edges = dict(zip(tree_from,tree_to))\n",
    "edges"
   ]
  },
  {
   "cell_type": "code",
   "execution_count": 30,
   "metadata": {},
   "outputs": [],
   "source": [
    "x={}\n",
    "for i in range(len(tree_from)):\n",
    "    if tree_from[i] in x:\n",
    "        x[tree_from[i]] = [x[tree_from[i]]]\n",
    "        x[tree_from[i]].append(tree_to[i])\n",
    "    else:\n",
    "        x[tree_from[i]] = tree_to[i]\n"
   ]
  },
  {
   "cell_type": "code",
   "execution_count": 37,
   "metadata": {},
   "outputs": [
    {
     "data": {
      "text/plain": [
       "dict_values([3, [4, 2]])"
      ]
     },
     "execution_count": 37,
     "metadata": {},
     "output_type": "execute_result"
    }
   ],
   "source": [
    "x.values()"
   ]
  },
  {
   "cell_type": "code",
   "execution_count": 33,
   "metadata": {},
   "outputs": [
    {
     "name": "stdout",
     "output_type": "stream",
     "text": [
      "0\n",
      "2\n"
     ]
    },
    {
     "data": {
      "text/plain": [
       "{1: 3, 3: [4, 2]}"
      ]
     },
     "execution_count": 33,
     "metadata": {},
     "output_type": "execute_result"
    }
   ],
   "source": [
    "y = {}\n",
    "for i in range(tree_nodes):\n",
    "    if i+1 in x.keys():\n",
    "        print(i)\n",
    "        y[i+1] = x[i+1]\n",
    "    elif i+1 in x.values():\n",
    "        print(i)\n",
    "        y[i+1] = x[i+1].key()\n",
    "    \n",
    "y"
   ]
  },
  {
   "cell_type": "code",
   "execution_count": null,
   "metadata": {},
   "outputs": [],
   "source": [
    "def distance(i,j,edges):\n",
    "    distance = 0\n",
    "    for tup in edges:\n",
    "        if tup[0] == i and tup[1] == j:\n",
    "            distance = 1\n",
    "        else:\n",
    "            for k in edges:\n",
    "                if k[1] == j and tup[0] == i:\n",
    "                    distance += 1"
   ]
  },
  {
   "cell_type": "code",
   "execution_count": null,
   "metadata": {},
   "outputs": [],
   "source": [
    "\n",
    "def maxBeauty(tree_nodes, tree_from, tree_to,a):"
   ]
  }
 ],
 "metadata": {
  "kernelspec": {
   "display_name": "Python 3.10.0 64-bit",
   "language": "python",
   "name": "python3"
  },
  "language_info": {
   "codemirror_mode": {
    "name": "ipython",
    "version": 3
   },
   "file_extension": ".py",
   "mimetype": "text/x-python",
   "name": "python",
   "nbconvert_exporter": "python",
   "pygments_lexer": "ipython3",
   "version": "3.10.0"
  },
  "orig_nbformat": 4,
  "vscode": {
   "interpreter": {
    "hash": "39c34c23e36fe7eda95f968dc3e2b620f9b5628a2dc80666984665e708be59d8"
   }
  }
 },
 "nbformat": 4,
 "nbformat_minor": 2
}
